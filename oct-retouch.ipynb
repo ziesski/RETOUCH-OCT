{
 "metadata": {
  "kernelspec": {
   "language": "python",
   "display_name": "Python 3",
   "name": "python3"
  },
  "language_info": {
   "pygments_lexer": "ipython3",
   "nbconvert_exporter": "python",
   "version": "3.6.4",
   "file_extension": ".py",
   "codemirror_mode": {
    "name": "ipython",
    "version": 3
   },
   "name": "python",
   "mimetype": "text/x-python"
  },
  "kaggle": {
   "accelerator": "gpu",
   "dataSources": [
    {
     "sourceId": 3637714,
     "sourceType": "datasetVersion",
     "datasetId": 2178902
    }
   ],
   "dockerImageVersionId": 30145,
   "isInternetEnabled": false,
   "language": "python",
   "sourceType": "notebook",
   "isGpuEnabled": true
  }
 },
 "nbformat_minor": 4,
 "nbformat": 4,
 "cells": [
  {
   "cell_type": "code",
   "source": [
    "#Notebook\n",
    "import os\n",
    "import json\n",
    "from zipfile import ZipFile\n",
    "import shutil\n",
    "from glob import glob\n",
    "from tqdm import tqdm\n",
    "\n",
    "#Data\n",
    "import random\n",
    "import numpy as np\n",
    "import pandas as pd\n",
    "import matplotlib.pyplot as plt\n",
    "\n",
    "#Image\n",
    "import cv2 as cv\n",
    "import cv2\n",
    "from skimage.io import imread, imshow, concatenate_images\n",
    "from skimage.transform import resize\n",
    "from skimage.morphology import label\n",
    "\n",
    "#keras\n",
    "import tensorflow as tf\n",
    "from tensorflow.keras import Input\n",
    "from tensorflow.keras.models import Model, load_model, save_model\n",
    "from tensorflow.keras.layers import *\n",
    "from tensorflow.keras.optimizers import Adam\n",
    "from tensorflow.keras.callbacks import EarlyStopping, ModelCheckpoint, ReduceLROnPlateau, TensorBoard\n",
    "\n",
    "from tensorflow.keras import backend as K\n",
    "from tensorflow.keras.preprocessing.image import ImageDataGenerator"
   ],
   "metadata": {
    "id": "Fkk6AOxIZorI",
    "execution": {
     "iopub.status.busy": "2022-05-17T06:22:13.340135Z",
     "iopub.execute_input": "2022-05-17T06:22:13.340911Z",
     "iopub.status.idle": "2022-05-17T06:22:13.348869Z",
     "shell.execute_reply.started": "2022-05-17T06:22:13.34087Z",
     "shell.execute_reply": "2022-05-17T06:22:13.347958Z"
    },
    "trusted": true
   },
   "outputs": [],
   "execution_count": null
  },
  {
   "cell_type": "code",
   "source": [
    "IMG_SIZE = (256,256)"
   ],
   "metadata": {
    "id": "ZBavKODDsDTa",
    "execution": {
     "iopub.status.busy": "2022-05-17T06:22:13.477027Z",
     "iopub.execute_input": "2022-05-17T06:22:13.477422Z",
     "iopub.status.idle": "2022-05-17T06:22:13.48104Z",
     "shell.execute_reply.started": "2022-05-17T06:22:13.47739Z",
     "shell.execute_reply": "2022-05-17T06:22:13.480023Z"
    },
    "trusted": true
   },
   "outputs": [],
   "execution_count": null
  },
  {
   "cell_type": "code",
   "source": [
    "train_files = glob(\"../input/retouch/retouch_processed/denoised_images/*.tiff\")\n",
    "mask_files = glob(\"../input/retouch/retouch_processed/cropped_masks/*.tiff\")"
   ],
   "metadata": {
    "id": "bluRdEosZW_i",
    "outputId": "9ae5af44-0525-4415-94dc-a9acc8ca6686",
    "execution": {
     "iopub.status.busy": "2022-05-17T06:22:13.601526Z",
     "iopub.execute_input": "2022-05-17T06:22:13.60185Z",
     "iopub.status.idle": "2022-05-17T06:22:13.654789Z",
     "shell.execute_reply.started": "2022-05-17T06:22:13.601822Z",
     "shell.execute_reply": "2022-05-17T06:22:13.654183Z"
    },
    "trusted": true
   },
   "outputs": [],
   "execution_count": null
  },
  {
   "cell_type": "code",
   "source": [
    "len(train_files), train_files[0], len(mask_files), mask_files[0]"
   ],
   "metadata": {
    "execution": {
     "iopub.status.busy": "2022-05-17T06:22:13.703777Z",
     "iopub.execute_input": "2022-05-17T06:22:13.704059Z",
     "iopub.status.idle": "2022-05-17T06:22:13.709459Z",
     "shell.execute_reply.started": "2022-05-17T06:22:13.704035Z",
     "shell.execute_reply": "2022-05-17T06:22:13.708771Z"
    },
    "trusted": true
   },
   "outputs": [],
   "execution_count": null
  },
  {
   "cell_type": "code",
   "source": [
    "imshow(train_files[17])\n",
    "plt.show()\n",
    "imshow(mask_files[17])\n",
    "plt.show()"
   ],
   "metadata": {
    "execution": {
     "iopub.status.busy": "2022-05-17T06:22:13.782786Z",
     "iopub.execute_input": "2022-05-17T06:22:13.783063Z",
     "iopub.status.idle": "2022-05-17T06:22:14.297633Z",
     "shell.execute_reply.started": "2022-05-17T06:22:13.783035Z",
     "shell.execute_reply": "2022-05-17T06:22:14.296969Z"
    },
    "trusted": true
   },
   "outputs": [],
   "execution_count": null
  },
  {
   "cell_type": "code",
   "source": [
    "train_17 = imread(train_files[17])\n",
    "train_17.shape, train_17.min(), train_17.max(), np.unique(train_17)"
   ],
   "metadata": {
    "execution": {
     "iopub.status.busy": "2022-05-17T06:22:14.299232Z",
     "iopub.execute_input": "2022-05-17T06:22:14.299473Z",
     "iopub.status.idle": "2022-05-17T06:22:14.313138Z",
     "shell.execute_reply.started": "2022-05-17T06:22:14.299439Z",
     "shell.execute_reply": "2022-05-17T06:22:14.312432Z"
    },
    "trusted": true
   },
   "outputs": [],
   "execution_count": null
  },
  {
   "cell_type": "code",
   "source": [
    "mask_17 = imread(mask_files[17])\n",
    "mask_17.shape, mask_17.min(), mask_17.max(), np.unique(mask_17)"
   ],
   "metadata": {
    "execution": {
     "iopub.status.busy": "2022-05-17T06:22:14.31443Z",
     "iopub.execute_input": "2022-05-17T06:22:14.314866Z",
     "iopub.status.idle": "2022-05-17T06:22:14.324613Z",
     "shell.execute_reply.started": "2022-05-17T06:22:14.314832Z",
     "shell.execute_reply": "2022-05-17T06:22:14.323795Z"
    },
    "trusted": true
   },
   "outputs": [],
   "execution_count": null
  },
  {
   "cell_type": "code",
   "source": [
    "df = pd.DataFrame({\"image_path\": train_files, \"mask_path\":mask_files})"
   ],
   "metadata": {
    "id": "Pxmk51S2SZIl",
    "execution": {
     "iopub.status.busy": "2022-05-17T06:22:14.326787Z",
     "iopub.execute_input": "2022-05-17T06:22:14.327086Z",
     "iopub.status.idle": "2022-05-17T06:22:14.333522Z",
     "shell.execute_reply.started": "2022-05-17T06:22:14.327051Z",
     "shell.execute_reply": "2022-05-17T06:22:14.332632Z"
    },
    "trusted": true
   },
   "outputs": [],
   "execution_count": null
  },
  {
   "cell_type": "code",
   "source": [
    "from sklearn.model_selection import train_test_split\n",
    "df_train, df_test = train_test_split(df, test_size=0.15, shuffle = True)\n",
    "df_train, df_val = train_test_split(df_train, test_size=0.15, shuffle = True)\n",
    "print(df_train.values.shape)\n",
    "print(df_val.values.shape)\n",
    "print(df_test.values.shape)"
   ],
   "metadata": {
    "id": "XZPS1Up_SyMu",
    "outputId": "db9e4b90-366b-4437-c1c9-6ba050404014",
    "execution": {
     "iopub.status.busy": "2022-05-17T06:22:14.334892Z",
     "iopub.execute_input": "2022-05-17T06:22:14.335607Z",
     "iopub.status.idle": "2022-05-17T06:22:14.347042Z",
     "shell.execute_reply.started": "2022-05-17T06:22:14.33557Z",
     "shell.execute_reply": "2022-05-17T06:22:14.34627Z"
    },
    "trusted": true
   },
   "outputs": [],
   "execution_count": null
  },
  {
   "cell_type": "code",
   "source": [
    "def adjust(img,mask):\n",
    "    #normalization\n",
    "    img = img / 255.\n",
    "    \n",
    "    mask[mask > 0] = 1\n",
    "    mask[mask == 0] = 0\n",
    "\n",
    "    return (img, mask)"
   ],
   "metadata": {
    "execution": {
     "iopub.status.busy": "2022-05-17T06:22:14.34849Z",
     "iopub.execute_input": "2022-05-17T06:22:14.348796Z",
     "iopub.status.idle": "2022-05-17T06:22:14.354545Z",
     "shell.execute_reply.started": "2022-05-17T06:22:14.348708Z",
     "shell.execute_reply": "2022-05-17T06:22:14.35355Z"
    },
    "trusted": true
   },
   "outputs": [],
   "execution_count": null
  },
  {
   "cell_type": "code",
   "source": [
    "train_gen_aug = dict(rotation_range=0.2,\n",
    "                        width_shift_range=0.05,\n",
    "                        height_shift_range=0.05,\n",
    "                        shear_range=0.05,\n",
    "                        zoom_range=0.05,\n",
    "                        horizontal_flip=True,\n",
    "                        fill_mode='nearest')"
   ],
   "metadata": {
    "id": "nGzPlPQnCbAJ",
    "execution": {
     "iopub.status.busy": "2022-05-17T06:22:14.463693Z",
     "iopub.execute_input": "2022-05-17T06:22:14.463969Z",
     "iopub.status.idle": "2022-05-17T06:22:14.469825Z",
     "shell.execute_reply.started": "2022-05-17T06:22:14.463942Z",
     "shell.execute_reply": "2022-05-17T06:22:14.46906Z"
    },
    "trusted": true
   },
   "outputs": [],
   "execution_count": null
  },
  {
   "cell_type": "code",
   "source": [
    "def train_generator(dataframe, batch_size, aug_dict, \n",
    "                    image_color_mode = \"rgb\",\n",
    "                    mask_color_mode = \"grayscale\",\n",
    "                    image_save_prefix = \"image\",\n",
    "                    mask_save_prefix = \"mask\",\n",
    "                    save_to_dir = None,\n",
    "                    target_size = (256,256),\n",
    "                    seed = 1):\n",
    "    image_datagen = ImageDataGenerator(**aug_dict)\n",
    "    mask_datagen = ImageDataGenerator(**aug_dict)\n",
    "\n",
    "  #image\n",
    "    image_generator = image_datagen.flow_from_dataframe(\n",
    "          dataframe,\n",
    "          x_col = \"image_path\",\n",
    "          target_size = target_size,\n",
    "          batch_size = batch_size,\n",
    "          class_mode = None,\n",
    "          color_mode = image_color_mode,\n",
    "          save_to_dir = save_to_dir,\n",
    "          save_prefix = image_save_prefix,\n",
    "          seed = seed )\n",
    "\n",
    "      #mask\n",
    "    mask_generator = mask_datagen.flow_from_dataframe(\n",
    "          dataframe,\n",
    "          x_col = \"mask_path\",\n",
    "          target_size = target_size,\n",
    "          batch_size = batch_size,\n",
    "          class_mode = None,\n",
    "          color_mode = mask_color_mode,\n",
    "          save_to_dir = save_to_dir,\n",
    "          save_prefix = mask_save_prefix,\n",
    "          seed = seed)\n",
    "  \n",
    "  #combining the generators to make a whole generator\n",
    "    train_gen = zip(image_generator, mask_generator)\n",
    "\n",
    "  #data adjustment\n",
    "    for (img, mask) in train_gen:\n",
    "        img, mask = adjust(img, mask)\n",
    "        yield (img,mask)"
   ],
   "metadata": {
    "id": "cn1hDUPdDhnn",
    "execution": {
     "iopub.status.busy": "2022-05-17T06:22:14.587774Z",
     "iopub.execute_input": "2022-05-17T06:22:14.588052Z",
     "iopub.status.idle": "2022-05-17T06:22:14.595488Z",
     "shell.execute_reply.started": "2022-05-17T06:22:14.588028Z",
     "shell.execute_reply": "2022-05-17T06:22:14.594841Z"
    },
    "trusted": true
   },
   "outputs": [],
   "execution_count": null
  },
  {
   "cell_type": "code",
   "source": [
    "def DoubleConv(inp, filters, dropout=0.1):\n",
    "  #A 3X3 2D conv-dropout-conv trio\n",
    "    layer1 = Conv2D(filters = filters, kernel_size = (3,3), activation= \"relu\", kernel_initializer= \"he_normal\", padding = \"same\")(inp)\n",
    "    layer2 = Dropout(rate = dropout)(layer1)\n",
    "    layer3 = Conv2D(filters= filters, kernel_size= (3,3), activation= \"relu\", kernel_initializer= \"he_normal\", padding = \"same\")(layer2)\n",
    "    out = BatchNormalization(axis = 3)(layer3)\n",
    "    return out"
   ],
   "metadata": {
    "execution": {
     "iopub.status.busy": "2022-05-17T06:22:14.70493Z",
     "iopub.execute_input": "2022-05-17T06:22:14.705216Z",
     "iopub.status.idle": "2022-05-17T06:22:14.71044Z",
     "shell.execute_reply.started": "2022-05-17T06:22:14.705191Z",
     "shell.execute_reply": "2022-05-17T06:22:14.709512Z"
    },
    "trusted": true
   },
   "outputs": [],
   "execution_count": null
  },
  {
   "cell_type": "code",
   "source": [
    "def unet(input_size = (256,256,3)):\n",
    "    #Input Layer\n",
    "    inputs = Input(input_size)\n",
    "\n",
    "    #Encoder network\n",
    "    conv1 = DoubleConv(inputs,16)\n",
    "    pool1 = MaxPooling2D(pool_size= (2,2))(conv1)\n",
    "\n",
    "    conv2 = DoubleConv(pool1,32)\n",
    "    pool2 = MaxPooling2D(pool_size= (2,2))(conv2)\n",
    "\n",
    "    conv3 = DoubleConv(pool2,64)\n",
    "    pool3 = MaxPooling2D(pool_size= (2,2))(conv3)\n",
    "\n",
    "    conv4 = DoubleConv(pool3,128)\n",
    "    pool4 = MaxPooling2D(pool_size= (2,2))(conv4)\n",
    "\n",
    "    conv5 = DoubleConv(pool4,256)\n",
    "\n",
    "    #decoder network\n",
    "    up6 = Conv2DTranspose(128, (2,2), strides = (2,2), padding = \"same\")(conv5)\n",
    "    up6 = concatenate([up6, conv4], axis = 3)\n",
    "    conv6 = DoubleConv(up6, 128)\n",
    "\n",
    "    up7 = Conv2DTranspose(64, (2,2), strides = (2,2), padding = \"same\")(conv6)\n",
    "    up7 = concatenate([up7, conv3], axis = 3)\n",
    "    conv7 = DoubleConv(up7, 64)\n",
    "\n",
    "    up8 = Conv2DTranspose(32, (2,2), strides = (2,2), padding = \"same\")(conv7)\n",
    "    up8 = concatenate([up8, conv2], axis = 3)\n",
    "    conv8 = DoubleConv(up8, 32)\n",
    "\n",
    "    up9 = Conv2DTranspose(16, (2,2), strides = (2,2), padding = \"same\")(conv8)\n",
    "    up9 = concatenate([up9, conv1], axis = 3)\n",
    "    conv9 = DoubleConv(up9, 16)\n",
    "\n",
    "    #output layer\n",
    "    conv10 = Conv2D(1, (1,1), activation= \"sigmoid\")(conv9)\n",
    "\n",
    "    model = Model(inputs = [inputs], outputs = [conv10])\n",
    "\n",
    "    return model"
   ],
   "metadata": {
    "execution": {
     "iopub.status.busy": "2022-05-17T06:22:14.821681Z",
     "iopub.execute_input": "2022-05-17T06:22:14.82198Z",
     "iopub.status.idle": "2022-05-17T06:22:14.835023Z",
     "shell.execute_reply.started": "2022-05-17T06:22:14.821951Z",
     "shell.execute_reply": "2022-05-17T06:22:14.83416Z"
    },
    "trusted": true
   },
   "outputs": [],
   "execution_count": null
  },
  {
   "cell_type": "code",
   "source": [
    "BATCH_SIZE = 32"
   ],
   "metadata": {
    "id": "3HGaVGKQrtzn",
    "execution": {
     "iopub.status.busy": "2022-05-17T06:22:14.94359Z",
     "iopub.execute_input": "2022-05-17T06:22:14.943873Z",
     "iopub.status.idle": "2022-05-17T06:22:14.947005Z",
     "shell.execute_reply.started": "2022-05-17T06:22:14.943844Z",
     "shell.execute_reply": "2022-05-17T06:22:14.946343Z"
    },
    "trusted": true
   },
   "outputs": [],
   "execution_count": null
  },
  {
   "cell_type": "code",
   "source": [
    "train_gen = train_generator(df_train, batch_size= BATCH_SIZE, \n",
    "                            aug_dict = dict(),\n",
    "                            target_size = IMG_SIZE)\n",
    "test_gen = train_generator(df_val, batch_size = BATCH_SIZE,\n",
    "                           aug_dict = dict(),\n",
    "                           target_size = IMG_SIZE)\n",
    "model = unet((IMG_SIZE[0], IMG_SIZE[1], 3))"
   ],
   "metadata": {
    "id": "jrblqHCYjWW6",
    "execution": {
     "iopub.status.busy": "2022-05-17T06:22:15.08124Z",
     "iopub.execute_input": "2022-05-17T06:22:15.081524Z",
     "iopub.status.idle": "2022-05-17T06:22:15.368853Z",
     "shell.execute_reply.started": "2022-05-17T06:22:15.081498Z",
     "shell.execute_reply": "2022-05-17T06:22:15.368134Z"
    },
    "trusted": true
   },
   "outputs": [],
   "execution_count": null
  },
  {
   "cell_type": "markdown",
   "source": [
    "Metrics and Loss"
   ],
   "metadata": {
    "id": "FZu6YinDzoSL"
   }
  },
  {
   "cell_type": "code",
   "source": [
    "EPOCHS = 300\n",
    "BATCH_SIZE = 32\n",
    "learning_rate = 0.05"
   ],
   "metadata": {
    "id": "64sEDXHW0sQX",
    "execution": {
     "iopub.status.busy": "2022-05-17T06:22:15.370465Z",
     "iopub.execute_input": "2022-05-17T06:22:15.370744Z",
     "iopub.status.idle": "2022-05-17T06:22:15.374091Z",
     "shell.execute_reply.started": "2022-05-17T06:22:15.370714Z",
     "shell.execute_reply": "2022-05-17T06:22:15.373427Z"
    },
    "trusted": true
   },
   "outputs": [],
   "execution_count": null
  },
  {
   "cell_type": "code",
   "source": [
    "from keras import backend as K\n",
    "import numpy as np\n",
    "import tensorflow as tf\n",
    "from scipy.ndimage import distance_transform_edt as distance\n",
    "\n",
    "\n",
    "def calc_dist_map(seg):\n",
    "    res = np.zeros_like(seg)\n",
    "    posmask = seg.astype(np.bool)\n",
    "\n",
    "    if posmask.any():\n",
    "        negmask = ~posmask\n",
    "        res = distance(negmask) * negmask - (distance(posmask) - 1) * posmask\n",
    "\n",
    "    return res\n",
    "\n",
    "\n",
    "def calc_dist_map_batch(y_true):\n",
    "    y_true_numpy = y_true.numpy()\n",
    "    return np.array([calc_dist_map(y)\n",
    "                     for y in y_true_numpy]).astype(np.float32)\n",
    "\n",
    "\n",
    "def surface_loss(y_true, y_pred):\n",
    "    y_true_dist_map = tf.py_function(func=calc_dist_map_batch,\n",
    "                                     inp=[y_true],\n",
    "                                     Tout=tf.float32)\n",
    "    multipled = y_pred * y_true_dist_map\n",
    "    return K.mean(multipled)"
   ],
   "metadata": {
    "id": "rr1-6jD_zlV1",
    "execution": {
     "iopub.status.busy": "2022-05-17T06:22:15.375364Z",
     "iopub.execute_input": "2022-05-17T06:22:15.37589Z",
     "iopub.status.idle": "2022-05-17T06:22:15.386755Z",
     "shell.execute_reply.started": "2022-05-17T06:22:15.375853Z",
     "shell.execute_reply": "2022-05-17T06:22:15.385978Z"
    },
    "trusted": true
   },
   "outputs": [],
   "execution_count": null
  },
  {
   "cell_type": "code",
   "source": [
    "import tensorflow as tf\n",
    "from tensorflow.keras import backend as K\n",
    "from keras.losses import binary_crossentropy\n",
    "\n",
    "\n",
    "class Semantic_loss_functions(object):\n",
    "    def __init__(self):\n",
    "        print(\"Semantic loss functions initialized\")\n",
    "\n",
    "    def dice_coef(self, y_true, y_pred):\n",
    "        y_true_f = K.flatten(y_true)\n",
    "        y_pred_f = K.flatten(y_pred)\n",
    "        intersection = K.sum(y_true_f * y_pred_f)\n",
    "        return (2.0 * intersection + smooth) / (K.sum(y_true_f) + K.sum(y_pred_f) + smooth)\n",
    "\n",
    "    def sensitivity(self, y_true, y_pred):\n",
    "        true_positives = K.sum(K.round(K.clip(y_true * y_pred, 0, 1)))\n",
    "        possible_positives = K.sum(K.round(K.clip(y_true, 0, 1)))\n",
    "        return true_positives / (possible_positives + K.epsilon())\n",
    "\n",
    "    def specificity(self, y_true, y_pred):\n",
    "        true_negatives = K.sum(K.round(K.clip((1 - y_true) * (1 - y_pred), 0, 1)))\n",
    "        possible_negatives = K.sum(K.round(K.clip(1 - y_true, 0, 1)))\n",
    "        return true_negatives / (possible_negatives + K.epsilon())\n",
    "\n",
    "    def convert_to_logits(self, y_pred):\n",
    "        y_pred = tf.clip_by_value(y_pred, tf.keras.backend.epsilon(), 1 - tf.keras.backend.epsilon())\n",
    "        return tf.math.log(y_pred / (1 - y_pred))\n",
    "\n",
    "    def weighted_cross_entropyloss(self, y_true, y_pred):\n",
    "        y_pred_logits = self.convert_to_logits(y_pred)\n",
    "        pos_weight = beta / (1 - beta)\n",
    "        loss = tf.nn.weighted_cross_entropy_with_logits(logits=y_pred_logits, labels=y_true, pos_weight=pos_weight)\n",
    "        return tf.reduce_mean(loss)\n",
    "\n",
    "    def focal_loss_with_logits(self, logits, targets, alpha, gamma, y_pred):\n",
    "        weight_a = alpha * (1 - y_pred) ** gamma * targets\n",
    "        weight_b = (1 - alpha) * y_pred ** gamma * (1 - targets)\n",
    "        return (tf.math.log1p(tf.exp(-tf.abs(logits))) + tf.nn.relu(-logits)) * (weight_a + weight_b) + logits * weight_b\n",
    "\n",
    "    def focal_loss(self, y_true, y_pred):\n",
    "        y_pred = tf.clip_by_value(y_pred, tf.keras.backend.epsilon(), 1 - tf.keras.backend.epsilon())\n",
    "        logits = self.convert_to_logits(y_pred)\n",
    "        loss = self.focal_loss_with_logits(logits=logits, targets=y_true, alpha=alpha, gamma=gamma, y_pred=y_pred)\n",
    "        return tf.reduce_mean(loss)\n",
    "\n",
    "    def depth_softmax(self, matrix):\n",
    "        sigmoided_matrix = tf.sigmoid(matrix)\n",
    "        softmax_matrix = sigmoided_matrix / K.sum(sigmoided_matrix, axis=0)\n",
    "        return softmax_matrix\n",
    "\n",
    "    def dice_coefficient(self, y_true, y_pred):\n",
    "        y_true_f = K.flatten(y_true)\n",
    "        y_pred_f = K.flatten(y_pred)\n",
    "        intersection = K.sum(y_true_f * y_pred_f)\n",
    "        return (2.0 * intersection + smooth) / (K.sum(y_true_f) + K.sum(y_pred_f) + smooth)\n",
    "\n",
    "    def dice_loss(self, y_true, y_pred):\n",
    "        return 1 - self.dice_coefficient(y_true, y_pred)\n",
    "\n",
    "    def bce_dice_loss(self, y_true, y_pred):\n",
    "        return (binary_crossentropy(y_true, y_pred) + self.dice_loss(y_true, y_pred)) / 2.0\n",
    "\n",
    "    def confusion(self, y_true, y_pred):\n",
    "        y_pred_pos = K.clip(y_pred, 0, 1)\n",
    "        y_pred_neg = 1 - y_pred_pos\n",
    "        y_pos = K.clip(y_true, 0, 1)\n",
    "        y_neg = 1 - y_pos\n",
    "        tp = K.sum(y_pos * y_pred_pos)\n",
    "        fp = K.sum(y_neg * y_pred_pos)\n",
    "        fn = K.sum(y_pos * y_pred_neg)\n",
    "        prec = (tp + smooth) / (tp + fp + smooth)\n",
    "        recall = (tp + smooth) / (tp + fn + smooth)\n",
    "        return prec, recall\n",
    "\n",
    "    def true_positive(self, y_true, y_pred):\n",
    "        y_pred_pos = K.round(K.clip(y_pred, 0, 1))\n",
    "        y_pos = K.round(K.clip(y_true, 0, 1))\n",
    "        return (K.sum(y_pos * y_pred_pos) + smooth) / (K.sum(y_pos) + smooth)\n",
    "\n",
    "    def true_negative(self, y_true, y_pred):\n",
    "        y_pred_pos = K.round(K.clip(y_pred, 0, 1))\n",
    "        y_pred_neg = 1 - y_pred_pos\n",
    "        y_pos = K.round(K.clip(y_true, 0, 1))\n",
    "        y_neg = 1 - y_pos\n",
    "        return (K.sum(y_neg * y_pred_neg) + smooth) / (K.sum(y_neg) + smooth)\n",
    "\n",
    "    def tversky_index(self, y_true, y_pred):\n",
    "        y_true_pos = K.flatten(y_true)\n",
    "        y_pred_pos = K.flatten(y_pred)\n",
    "        true_pos = K.sum(y_true_pos * y_pred_pos)\n",
    "        false_neg = K.sum(y_true_pos * (1 - y_pred_pos))\n",
    "        false_pos = K.sum((1 - y_true_pos) * y_pred_pos)\n",
    "        alpha = 0.7\n",
    "        return (true_pos + smooth) / (true_pos + alpha * false_neg + (1 - alpha) * false_pos + smooth)\n",
    "\n",
    "    def tversky_loss(self, y_true, y_pred):\n",
    "        return 1 - self.tversky_index(y_true, y_pred)\n",
    "\n",
    "    def focal_tversky(self, y_true, y_pred):\n",
    "        pt_1 = self.tversky_index(y_true, y_pred)\n",
    "        gamma = 0.75\n",
    "        return K.pow((1 - pt_1), gamma)\n",
    "\n",
    "    def log_cosh_dice_loss(self, y_true, y_pred):\n",
    "        x = self.dice_loss(y_true, y_pred)\n",
    "        return tf.math.log((tf.exp(x) + tf.exp(-x)) / 2.0)\n",
    "\n",
    "    def loss(self, y_true, y_pred):\n",
    "        return 0.7 * self.focal_tversky(y_true, y_pred) + 0.3 * self.weighted_cross_entropyloss(y_true, y_pred)\n",
    "\n",
    "\n",
    "s = Semantic_loss_functions()\n"
   ],
   "metadata": {
    "execution": {
     "iopub.status.busy": "2022-05-17T06:22:15.471607Z",
     "iopub.execute_input": "2022-05-17T06:22:15.471903Z",
     "iopub.status.idle": "2022-05-17T06:22:15.503993Z",
     "shell.execute_reply.started": "2022-05-17T06:22:15.471873Z",
     "shell.execute_reply": "2022-05-17T06:22:15.503241Z"
    },
    "trusted": true
   },
   "outputs": [],
   "execution_count": null
  },
  {
   "cell_type": "code",
   "source": [
    "decay_rate = learning_rate / EPOCHS\n",
    "opt = Adam(learning_rate=learning_rate, epsilon= 0.1, decay=decay_rate, amsgrad=False)"
   ],
   "metadata": {
    "execution": {
     "iopub.status.busy": "2022-05-17T06:22:15.588406Z",
     "iopub.execute_input": "2022-05-17T06:22:15.588693Z",
     "iopub.status.idle": "2022-05-17T06:22:15.592745Z",
     "shell.execute_reply.started": "2022-05-17T06:22:15.588666Z",
     "shell.execute_reply": "2022-05-17T06:22:15.591809Z"
    },
    "trusted": true
   },
   "outputs": [],
   "execution_count": null
  },
  {
   "cell_type": "code",
   "source": [
    "def POD(y_true, y_pred):\n",
    "    y_true_pos = K.flatten(y_true)\n",
    "    y_pred_pos = K.flatten(y_pred)\n",
    "    true_pos = K.sum(y_true_pos * y_pred_pos)\n",
    "    false_neg = K.sum(y_true_pos * (1 - y_pred_pos))\n",
    "    return true_pos / (true_pos + false_neg)"
   ],
   "metadata": {
    "execution": {
     "iopub.status.busy": "2022-05-17T06:22:15.647796Z",
     "iopub.execute_input": "2022-05-17T06:22:15.648275Z",
     "iopub.status.idle": "2022-05-17T06:22:15.652632Z",
     "shell.execute_reply.started": "2022-05-17T06:22:15.648246Z",
     "shell.execute_reply": "2022-05-17T06:22:15.651918Z"
    },
    "trusted": true
   },
   "outputs": [],
   "execution_count": null
  },
  {
   "cell_type": "code",
   "source": [
    "model.compile(optimizer = opt, loss = s.loss, metrics = [POD, s.dice_coefficient, s.sensitivity, s.specificity])"
   ],
   "metadata": {
    "id": "kRATCFGi0xhV",
    "execution": {
     "iopub.status.busy": "2022-05-17T06:22:15.71161Z",
     "iopub.execute_input": "2022-05-17T06:22:15.711885Z",
     "iopub.status.idle": "2022-05-17T06:22:15.72183Z",
     "shell.execute_reply.started": "2022-05-17T06:22:15.711857Z",
     "shell.execute_reply": "2022-05-17T06:22:15.721164Z"
    },
    "trusted": true
   },
   "outputs": [],
   "execution_count": null
  },
  {
   "cell_type": "code",
   "source": [
    "model.summary()"
   ],
   "metadata": {
    "id": "tx63uSqa24u_",
    "outputId": "c5753b38-8584-4d94-c893-0b0938c89dce",
    "execution": {
     "iopub.status.busy": "2022-05-17T06:22:19.005988Z",
     "iopub.execute_input": "2022-05-17T06:22:19.006536Z",
     "iopub.status.idle": "2022-05-17T06:22:19.034961Z",
     "shell.execute_reply.started": "2022-05-17T06:22:19.006498Z",
     "shell.execute_reply": "2022-05-17T06:22:19.03432Z"
    },
    "trusted": true
   },
   "outputs": [],
   "execution_count": null
  },
  {
   "cell_type": "code",
   "source": [
    "#callbacks\n",
    "earlystopping = EarlyStopping(monitor='val_loss',\n",
    "                              mode='min', \n",
    "                              verbose=1, \n",
    "                              patience=20\n",
    "                             )\n",
    "# save the best model with lower validation loss\n",
    "checkpointer = ModelCheckpoint(filepath=\"unet.hdf5\", \n",
    "                               verbose=1, \n",
    "                               save_best_only=True\n",
    "                              )\n",
    "reduce_lr = ReduceLROnPlateau(monitor='val_loss',\n",
    "                              mode='min',\n",
    "                              verbose=1,\n",
    "                              patience=10,\n",
    "                              min_delta=0.0001,\n",
    "                              factor=0.2\n",
    "                             )"
   ],
   "metadata": {
    "id": "61bWofEC264l",
    "execution": {
     "iopub.status.busy": "2022-05-17T06:22:24.659666Z",
     "iopub.execute_input": "2022-05-17T06:22:24.659918Z",
     "iopub.status.idle": "2022-05-17T06:22:24.665295Z",
     "shell.execute_reply.started": "2022-05-17T06:22:24.659889Z",
     "shell.execute_reply": "2022-05-17T06:22:24.664424Z"
    },
    "trusted": true
   },
   "outputs": [],
   "execution_count": null
  },
  {
   "cell_type": "code",
   "source": [
    "history = model.fit(train_gen,\n",
    "          steps_per_epoch = len(df_train)/BATCH_SIZE,\n",
    "          epochs = EPOCHS,\n",
    "          callbacks = [checkpointer, earlystopping, reduce_lr],\n",
    "          validation_data = test_gen,\n",
    "          validation_steps= len(df_val)/ BATCH_SIZE) "
   ],
   "metadata": {
    "id": "DtAsRW5b4Ejw",
    "outputId": "d60c8d1f-dbb6-4162-efe5-0a77ec04b2b3",
    "execution": {
     "iopub.status.busy": "2022-05-17T06:22:27.960996Z",
     "iopub.execute_input": "2022-05-17T06:22:27.961587Z",
     "iopub.status.idle": "2022-05-17T06:55:43.629547Z",
     "shell.execute_reply.started": "2022-05-17T06:22:27.961544Z",
     "shell.execute_reply": "2022-05-17T06:55:43.628794Z"
    },
    "trusted": true
   },
   "outputs": [],
   "execution_count": null
  },
  {
   "cell_type": "code",
   "source": [
    "model.save_weights(\"unet.h5\")"
   ],
   "metadata": {
    "execution": {
     "iopub.status.busy": "2022-05-17T06:57:08.032265Z",
     "iopub.execute_input": "2022-05-17T06:57:08.033068Z",
     "iopub.status.idle": "2022-05-17T06:57:08.1163Z",
     "shell.execute_reply.started": "2022-05-17T06:57:08.033021Z",
     "shell.execute_reply": "2022-05-17T06:57:08.115593Z"
    },
    "trusted": true
   },
   "outputs": [],
   "execution_count": null
  },
  {
   "cell_type": "code",
   "source": [
    "# saving model achitecture in json file\n",
    "model_json = model.to_json()\n",
    "with open(\"unet-architecture.json\", \"w\") as json_file:\n",
    "    json_file.write(model_json)"
   ],
   "metadata": {
    "execution": {
     "iopub.status.busy": "2022-05-17T06:57:29.74716Z",
     "iopub.execute_input": "2022-05-17T06:57:29.747701Z",
     "iopub.status.idle": "2022-05-17T06:57:29.774117Z",
     "shell.execute_reply.started": "2022-05-17T06:57:29.74766Z",
     "shell.execute_reply": "2022-05-17T06:57:29.773388Z"
    },
    "trusted": true
   },
   "outputs": [],
   "execution_count": null
  },
  {
   "cell_type": "code",
   "source": [
    "test_gen = train_generator(df_test, BATCH_SIZE,\n",
    "                                dict(),\n",
    "                                target_size=IMG_SIZE)\n",
    "results = model.evaluate(test_gen, steps=len(df_test) / BATCH_SIZE)\n",
    "print(\"Test loss: \",results[0])\n",
    "print(\"Test POD: \",results[1])\n",
    "print(\"Test Dice Coefficent: \",results[2])\n",
    "print(\"Test sensitivity: \",results[3])\n",
    "print(\"Test specificity: \",results[4])"
   ],
   "metadata": {
    "execution": {
     "iopub.status.busy": "2022-05-17T06:58:02.246069Z",
     "iopub.execute_input": "2022-05-17T06:58:02.246767Z",
     "iopub.status.idle": "2022-05-17T06:58:10.722487Z",
     "shell.execute_reply.started": "2022-05-17T06:58:02.246728Z",
     "shell.execute_reply": "2022-05-17T06:58:10.721814Z"
    },
    "trusted": true
   },
   "outputs": [],
   "execution_count": null
  },
  {
   "cell_type": "code",
   "source": [
    "for index in range(len(df_test)):\n",
    "    img = cv.imread(df_test['image_path'].iloc[index])\n",
    "    img = cv.cvtColor(img, cv.COLOR_BGR2RGB)\n",
    "    img = cv.resize(img ,IMG_SIZE)\n",
    "    img = img / 255\n",
    "    img = img[np.newaxis, :, :, :]\n",
    "    pred=model.predict(img)\n",
    "    img = np.squeeze(img)\n",
    "\n",
    "    original = img.copy()\n",
    "    fig, ax = plt.subplots(1,3,figsize = (15,5))\n",
    "    ax[0].imshow(original)\n",
    "    ax[0].set_xlabel('Original Image')\n",
    "    \n",
    "    main = original.copy()\n",
    "    label = cv.imread(df_test['mask_path'].iloc[index])\n",
    "    sample = np.array(np.squeeze(label), dtype = np.uint8)\n",
    "    sample = cv.resize(sample ,IMG_SIZE)\n",
    "    contours, hier = cv2.findContours(sample[:,:,0],cv2.RETR_LIST,cv2.CHAIN_APPROX_SIMPLE)\n",
    "    sample_over_gt = cv2.drawContours(main, contours, -1,[0,255,0], thickness=-1)\n",
    "    ax[1].imshow(sample_over_gt)\n",
    "    ax[1].set_xlabel('Ground Truth')\n",
    "    \n",
    "    main = original.copy()\n",
    "    sample = np.array(np.squeeze(pred) > 0.5, dtype = np.uint8)\n",
    "    contours, hier = cv2.findContours(sample,cv2.RETR_LIST,cv2.CHAIN_APPROX_SIMPLE)\n",
    "    sample_over_pr = cv2.drawContours(main, contours, -1, [0,255,0], thickness=-1)\n",
    "    ax[2].imshow(sample_over_pr)\n",
    "    ax[2].set_xlabel(\"Unet Prediction\")\n",
    "\n",
    "plt.show()"
   ],
   "metadata": {
    "execution": {
     "iopub.status.busy": "2022-05-17T07:13:14.816582Z",
     "iopub.execute_input": "2022-05-17T07:13:14.816839Z",
     "iopub.status.idle": "2022-05-17T07:22:04.789692Z",
     "shell.execute_reply.started": "2022-05-17T07:13:14.816811Z",
     "shell.execute_reply": "2022-05-17T07:22:04.789Z"
    },
    "trusted": true
   },
   "outputs": [],
   "execution_count": null
  },
  {
   "cell_type": "code",
   "source": [
    "def plot_segm_history(history, metrics, losses, name):\n",
    "    \"\"\"[summary]\n",
    "    \n",
    "    Args:\n",
    "        history ([type]): [description]\n",
    "        metrics (list, optional): [description]. Defaults to [\"iou\", \"val_iou\"].\n",
    "        losses (list, optional): [description]. Defaults to [\"loss\", \"val_loss\"].\n",
    "    \"\"\"\n",
    "    # summarize history for iou\n",
    "    plt.figure(figsize=(12, 6))\n",
    "    for metric in metrics:\n",
    "        plt.plot(history.history[metric], linewidth=3)\n",
    "    plt.suptitle(f\"{name} vs epochs\", fontsize=20)\n",
    "    plt.ylabel(f\"{name}\", fontsize=20)\n",
    "    plt.xlabel(\"epoch\", fontsize=20)\n",
    "    # plt.yticks(np.arange(0.3, 1, step=0.02), fontsize=35)\n",
    "    # plt.xticks(fontsize=35)\n",
    "    plt.legend(metrics, loc=\"center right\", fontsize=15)\n",
    "    plt.savefig(f\"{name}.png\")\n",
    "    plt.show()\n",
    "    # summarize history for loss\n",
    "    plt.figure(figsize=(12, 6))\n",
    "    for loss in losses:\n",
    "        plt.plot(history.history[loss], linewidth=3)\n",
    "    plt.suptitle(\"loss over epochs\", fontsize=20)\n",
    "    plt.ylabel(\"loss\", fontsize=20)\n",
    "    plt.xlabel(\"epoch\", fontsize=20)\n",
    "    # plt.yticks(np.arange(0, 0.2, step=0.005), fontsize=35)\n",
    "    # plt.xticks(fontsize=35)\n",
    "    plt.legend(losses, loc=\"center right\", fontsize=15)\n",
    "    plt.savefig(\"unet_loss.png\")\n",
    "    plt.show()"
   ],
   "metadata": {
    "execution": {
     "iopub.status.busy": "2022-05-17T07:31:25.680264Z",
     "iopub.execute_input": "2022-05-17T07:31:25.680735Z",
     "iopub.status.idle": "2022-05-17T07:31:25.692905Z",
     "shell.execute_reply.started": "2022-05-17T07:31:25.680696Z",
     "shell.execute_reply": "2022-05-17T07:31:25.69211Z"
    },
    "trusted": true
   },
   "outputs": [],
   "execution_count": null
  },
  {
   "cell_type": "code",
   "source": [
    "plot_segm_history(\n",
    "    history, # required - keras training history object\n",
    "    ['dice_coefficient', 'val_dice_coefficient'], # optional - metrics names to plot\n",
    "    ['loss', 'val_loss'], 'Dice_coefficient') # optional - loss names to plot"
   ],
   "metadata": {
    "execution": {
     "iopub.status.busy": "2022-05-17T07:34:26.833659Z",
     "iopub.execute_input": "2022-05-17T07:34:26.833922Z",
     "iopub.status.idle": "2022-05-17T07:34:27.423758Z",
     "shell.execute_reply.started": "2022-05-17T07:34:26.833891Z",
     "shell.execute_reply": "2022-05-17T07:34:27.423007Z"
    },
    "trusted": true
   },
   "outputs": [],
   "execution_count": null
  },
  {
   "cell_type": "code",
   "source": [
    "plot_segm_history(\n",
    "    history, # required - keras training history object\n",
    "    ['sensitivity', 'val_sensitivity'], # optional - metrics names to plot\n",
    "    ['loss', 'val_loss'], 'sensitivity') # optional - loss names to plot"
   ],
   "metadata": {
    "execution": {
     "iopub.status.busy": "2022-05-17T07:34:31.435476Z",
     "iopub.execute_input": "2022-05-17T07:34:31.435741Z",
     "iopub.status.idle": "2022-05-17T07:34:32.021851Z",
     "shell.execute_reply.started": "2022-05-17T07:34:31.435711Z",
     "shell.execute_reply": "2022-05-17T07:34:32.021067Z"
    },
    "trusted": true
   },
   "outputs": [],
   "execution_count": null
  },
  {
   "cell_type": "code",
   "source": [
    "plot_segm_history(\n",
    "    history, # required - keras training history object\n",
    "    ['specificity', 'val_specificity'], # optional - metrics names to plot\n",
    "    ['loss', 'val_loss'], 'specificity') # optional - loss names to plot"
   ],
   "metadata": {
    "execution": {
     "iopub.status.busy": "2022-05-17T07:34:35.846452Z",
     "iopub.execute_input": "2022-05-17T07:34:35.847303Z",
     "iopub.status.idle": "2022-05-17T07:34:36.41965Z",
     "shell.execute_reply.started": "2022-05-17T07:34:35.847263Z",
     "shell.execute_reply": "2022-05-17T07:34:36.418969Z"
    },
    "trusted": true
   },
   "outputs": [],
   "execution_count": null
  },
  {
   "cell_type": "code",
   "source": [
    "plot_segm_history(\n",
    "    history, # required - keras training history object\n",
    "    ['POD', 'val_POD'], # optional - metrics names to plot\n",
    "    ['loss', 'val_loss'], 'POD') # optional - loss names to plot"
   ],
   "metadata": {
    "execution": {
     "iopub.status.busy": "2022-05-17T07:34:40.02281Z",
     "iopub.execute_input": "2022-05-17T07:34:40.023394Z",
     "iopub.status.idle": "2022-05-17T07:34:40.595944Z",
     "shell.execute_reply.started": "2022-05-17T07:34:40.023354Z",
     "shell.execute_reply": "2022-05-17T07:34:40.595269Z"
    },
    "trusted": true
   },
   "outputs": [],
   "execution_count": null
  },
  {
   "cell_type": "code",
   "source": [],
   "metadata": {},
   "outputs": [],
   "execution_count": null
  }
 ]
}
